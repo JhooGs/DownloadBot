{
 "cells": [
  {
   "cell_type": "markdown",
   "metadata": {},
   "source": [
    "<h2>Script: Robô automação siscori</h2>\n",
    "<h4>Autor: Jonathan G </h4>\n",
    "<h4>Data: 26/06/2020</h4>"
   ]
  },
  {
   "cell_type": "code",
   "execution_count": 1,
   "metadata": {},
   "outputs": [],
   "source": [
    "from selenium import webdriver\n",
    "import urllib.request\n",
    "from selenium.webdriver.common.keys import Keys\n",
    "from anticaptchaofficial.imagecaptcha import *\n",
    "from selenium.webdriver.firefox.options import Options\n",
    "import datetime\n",
    "import os\n",
    "from selenium.common.exceptions import NoSuchElementException"
   ]
  },
  {
   "cell_type": "code",
   "execution_count": 2,
   "metadata": {},
   "outputs": [],
   "source": [
    "#Declarando tipo do download \n",
    "tpDownImp = 'CAPI' # IMPORTAÇÃO\n",
    "tpDownExp = 'CAPE' # EXPORTAÇÃO\n",
    "#Declarando os botões de Imp e Exp da tela\n",
    "clickImp = '#principal:j_idt45:j_idt46'\n",
    "clickExp = '#principal:j_idt45:j_idt62'\n",
    "#Lista de arquivos que não foram localizados\n",
    "listaNaoLoc = []\n",
    "#Declando o número de arquivos que devem ser feito download\n",
    "cont = 1\n"
   ]
  },
  {
   "cell_type": "code",
   "execution_count": 3,
   "metadata": {},
   "outputs": [],
   "source": [
    "#Pegando o nome do mês atual(3 letras), ano e mês de download. Subtraindo 10 dias para pegar o mês anterior\n",
    "mydate = datetime.datetime.now() - datetime.timedelta(days = 10)\n",
    "mesAtual = mydate.strftime(\"%b\")\n",
    "anoAtual = mydate.year\n",
    "mesDown =  mydate.month"
   ]
  },
  {
   "cell_type": "code",
   "execution_count": 6,
   "metadata": {},
   "outputs": [
    {
     "name": "stdout",
     "output_type": "stream",
     "text": [
      "Pastas não existem, mas foram criadas\n"
     ]
    }
   ],
   "source": [
    "#caminho de download\n",
    "path = \"/home/jonathan/Documentos/SEARCHX/\"\n",
    "pathMes = path+str(anoAtual)+\"/\"+mesAtual\n",
    "pathImp = pathMes+\"/Imp\"\n",
    "pathExp = pathMes+\"/Exp\"\n",
    "\n",
    "#Cria as pastas caso não existam\n",
    "if (os.path.isdir(pathMes)):\n",
    "    print(\"Pasta já foi criada!\")\n",
    "else:\n",
    "    os.mkdir(pathMes)\n",
    "    os.mkdir(pathImp)\n",
    "    os.mkdir(pathExp)\n",
    "    print(\"Pastas não existem, mas foram criadas\")"
   ]
  },
  {
   "cell_type": "code",
   "execution_count": 7,
   "metadata": {},
   "outputs": [],
   "source": [
    "def iniciarBot(caminho,tpDown,tpClick,cont):\n",
    "    #Toda vez que é chamada a função webdriver.Firefox, uma nova instância é criada e um novo perfil\n",
    "    #Aqui embaixo é feita a configuração do perfil para que o download aconteça de forma automática, sem a janela de popUp\n",
    "    profile = webdriver.FirefoxProfile()\n",
    "    profile.set_preference(\"browser.download.folderList\", 2)\n",
    "    profile.set_preference(\"browser.download.manager.showWhenStarting\", False)\n",
    "    profile.set_preference(\"browser.download.dir\", caminho)\n",
    "    profile.set_preference(\"browser.helperApps.neverAsk.saveToDisk\", \"application/zip\")\n",
    "\n",
    "    #Chama driver do firefox, não usei chrome porque da problema de certifcado com o site\n",
    "    #Acessa o site e procura pelo id e pega o atributo src que é a imagem do captcha\n",
    "    driver = webdriver.Firefox(firefox_profile=profile)\n",
    "    driver.get(\"http://siscori.receita.fazenda.gov.br/apoiosiscori/consulta.jsf\")\n",
    "    \n",
    "    rotinaDownload(tpDown,driver,tpClick,caminho,cont)"
   ]
  },
  {
   "cell_type": "code",
   "execution_count": 8,
   "metadata": {},
   "outputs": [],
   "source": [
    "def rotinaDownload(tpDown,driver,tpClick,caminho,cont):\n",
    "    \n",
    "    \n",
    "    while (cont < 98):\n",
    "        imagemCaptcha = driver.find_element_by_id(\"img_captcha_serpro_gov_br\")\n",
    "\n",
    "        #Necessário executar depois que a página renderiza\n",
    "\n",
    "        time.sleep(5)\n",
    "        imagemCaptcha = imagemCaptcha.get_attribute(\"src\")\n",
    "\n",
    "        #Faz uma requisição no link da imagem e baixa na pasta especificada que fica junto com esse código\n",
    "        urllib.request.urlretrieve(imagemCaptcha, \"Captchas/cp1.png\")\n",
    "\n",
    "        #Chamando anticaptcha\n",
    "        #chave \n",
    "        solver = imagecaptcha()\n",
    "        solver.set_verbose(1)\n",
    "        solver.set_key(\"\")\n",
    "\n",
    "        captcha_text = solver.solve_and_return_solution(\"Captchas/cp1.png\")\n",
    "        if captcha_text != 0:\n",
    "            print(\"captcha text \"+captcha_text)\n",
    "        else:\n",
    "            print(\"task finished with error \"+solver.error_code)\n",
    "        \n",
    "        #Aqui ele vai tentar localizar o arquivo no html, se ele não achar significa que naquele mês não teve importação do produto\n",
    "        try:\n",
    "            #Selecionando o campo do Captcha e setando o resultado retornado\n",
    "            campoCaptcha = driver.find_element_by_name(\"txtTexto_captcha_serpro_gov_br\")\n",
    "            campoCaptcha.send_keys(captcha_text)\n",
    "\n",
    "            #Selecionando o campo de arquivo e baixando\n",
    "            driver.find_element_by_xpath(\"//*[contains(@href,'\"+tpClick+\"')]\").click()\n",
    "            time.sleep(1)\n",
    "            linkDownload = driver.find_element_by_xpath(\"//*[contains(@title,'%s%02d20%02d.zip')]\" % (tpDown,cont,mesDown))\n",
    "            linkDownload.click()\n",
    "            print(\"Fazendo download do arquivo: %s%02d20%02d.zip\" % (tpDown,cont,mesDown))\n",
    "                     \n",
    "            #Tempo para esperar finalizar download\n",
    "            time.sleep(3)\n",
    "            \n",
    "            if (os.path.isfile(caminho+\"/\"+'%s%02d20%02d.zip' % (tpDown,cont,mesDown))):\n",
    "                print(\"Download do arquivo %s%02d20%02d.zip conferido e ok\" % (tpDown,cont,mesDown))\n",
    "                #Adicionando mais um no contador depois de fazer dowload do arquivo com sucesso\n",
    "                cont+=1\n",
    "                print(\"Contador está em: \"+str(cont))\n",
    "            else:\n",
    "                print(\"Captcha do arquivo %s%02d20%02d.zip foi digitado de modo incorreto, realizando nova tentativa!\" % (tpDown,cont,mesDown))      \n",
    "            \n",
    "        except NoSuchElementException:\n",
    "            #Como ele não encontrou no html da página o link, ele adiciona mais um e busca novamente\n",
    "            print(\"Produto %s%02d20%02d.zip não foi localizado, fazendo download do próximo!\" % (tpDown,cont,mesDown))\n",
    "            #Listando arquivos que não foram localizados\n",
    "            listaNaoLoc.append('%s%02d20%02d' % (tpDown,cont,mesDown))\n",
    "            cont+=1\n",
    "            print(\"Contador está em: \"+str(cont))\n",
    "            \n",
    "    driver.close()"
   ]
  },
  {
   "cell_type": "code",
   "execution_count": 1,
   "metadata": {
    "scrolled": true
   },
   "outputs": [],
   "source": [
    "iniciarBot(pathImp, tpDownImp, clickImp,cont)\n",
    "print(\"Download Importação concluída!\")\n",
    "iniciarBot(pathExp, tpDownExp, clickExp,cont)\n",
    "print(\"Download Exportação concluída!\")\n",
    "print(\"Segue a lista dos arquivos que não foram localizados: \"+listaNaoLoc)"
   ]
  }
 ],
 "metadata": {
  "kernelspec": {
   "display_name": "Python 3",
   "language": "python",
   "name": "python3"
  },
  "language_info": {
   "codemirror_mode": {
    "name": "ipython",
    "version": 3
   },
   "file_extension": ".py",
   "mimetype": "text/x-python",
   "name": "python",
   "nbconvert_exporter": "python",
   "pygments_lexer": "ipython3",
   "version": "3.7.6"
  },
  "toc": {
   "base_numbering": 1,
   "nav_menu": {},
   "number_sections": false,
   "sideBar": false,
   "skip_h1_title": false,
   "title_cell": "Table of Contents",
   "title_sidebar": "Contents",
   "toc_cell": false,
   "toc_position": {},
   "toc_section_display": false,
   "toc_window_display": false
  }
 },
 "nbformat": 4,
 "nbformat_minor": 2
}
